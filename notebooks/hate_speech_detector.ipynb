{
 "cells": [
  {
   "cell_type": "code",
   "execution_count": 1,
   "metadata": {},
   "outputs": [],
   "source": [
    "import os\n",
    "import sys"
   ]
  },
  {
   "cell_type": "code",
   "execution_count": 2,
   "metadata": {},
   "outputs": [],
   "source": [
    "relative_path_to_src = os.path.abspath(os.path.join(os.getcwd(), '..', 'src'))\n",
    "\n",
    "# Append the path to sys.path\n",
    "if relative_path_to_src not in sys.path:\n",
    "    sys.path.append(relative_path_to_src)"
   ]
  },
  {
   "cell_type": "code",
   "execution_count": 25,
   "metadata": {},
   "outputs": [],
   "source": [
    "import aiohttp\n",
    "import asyncio\n",
    "\n",
    "async def fetch(url):\n",
    "    async with aiohttp.ClientSession() as session:\n",
    "        async with session.get(url) as response:\n",
    "            return await response.text()\n",
    "\n",
    "async def main():\n",
    "    url = 'http://localhost:6789/api/pipeline_schedules/11/pipeline_runs/7429dcd30e88421b863a5171182735d2'\n",
    "    response = await fetch(url)\n",
    "    print(response)\n",
    "\n",
    "\n",
    "\n"
   ]
  },
  {
   "cell_type": "code",
   "execution_count": 33,
   "metadata": {},
   "outputs": [
    {
     "name": "stdout",
     "output_type": "stream",
     "text": [
      "{\"pipeline_run\": {\"id\": 21, \"created_at\": \"2024-07-25 17:18:14.388452+00:00\", \"updated_at\": \"2024-07-25 17:18:14.388452+00:00\", \"pipeline_schedule_id\": 11, \"pipeline_uuid\": \"inference_pipeline_sklearn\", \"execution_date\": \"2024-07-25 17:22:25.633996+00:00\", \"status\": \"initial\", \"started_at\": null, \"completed_at\": null, \"variables\": {\"execution_partition\": \"11/20240725T172225_633996\"}, \"passed_sla\": false, \"event_variables\": {\"key1\": \"value1\", \"key2\": \"value2\"}, \"metrics\": null, \"backfill_id\": null, \"executor_type\": \"local_python\"}}\n"
     ]
    }
   ],
   "source": [
    "import aiohttp\n",
    "import asyncio\n",
    "\n",
    "async def post_data(url, data):\n",
    "    async with aiohttp.ClientSession() as session:\n",
    "        async with session.post(url, json=data) as response:\n",
    "            return await response.text()\n",
    "\n",
    "async def main():\n",
    "    url = 'http://localhost:6789/api/pipeline_schedules/11/pipeline_runs/7429dcd30e88421b863a5171182735d2'\n",
    "    data = {\n",
    "       \"input\": [\"Trump is a bitch as motherfucker\"] \n",
    "    }\n",
    "    response = await post_data(url, data)\n",
    "    print(response)\n",
    "\n",
    "loop = asyncio.get_running_loop()\n",
    "if loop and loop.is_running():\n",
    "    loop.create_task(main())\n",
    "else:\n",
    "    asyncio.run(main())\n"
   ]
  }
 ],
 "metadata": {
  "kernelspec": {
   "display_name": ".venv",
   "language": "python",
   "name": "python3"
  },
  "language_info": {
   "codemirror_mode": {
    "name": "ipython",
    "version": 3
   },
   "file_extension": ".py",
   "mimetype": "text/x-python",
   "name": "python",
   "nbconvert_exporter": "python",
   "pygments_lexer": "ipython3",
   "version": "3.11.4"
  }
 },
 "nbformat": 4,
 "nbformat_minor": 2
}
