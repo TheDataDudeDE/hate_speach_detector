{
 "cells": [
  {
   "cell_type": "code",
   "execution_count": 1,
   "metadata": {},
   "outputs": [],
   "source": [
    "import os\n",
    "import sys"
   ]
  },
  {
   "cell_type": "code",
   "execution_count": 2,
   "metadata": {},
   "outputs": [],
   "source": [
    "relative_path_to_src = os.path.abspath(os.path.join(os.getcwd(), '..', 'src'))\n",
    "\n",
    "# Append the path to sys.path\n",
    "if relative_path_to_src not in sys.path:\n",
    "    sys.path.append(relative_path_to_src)"
   ]
  },
  {
   "cell_type": "code",
   "execution_count": 3,
   "metadata": {},
   "outputs": [],
   "source": [
    "from utils import load_mlflow_client"
   ]
  },
  {
   "cell_type": "code",
   "execution_count": 4,
   "metadata": {},
   "outputs": [],
   "source": [
    "import mlflow\n",
    "client = load_mlflow_client()\n",
    "\n",
    "\n",
    "\n"
   ]
  },
  {
   "cell_type": "code",
   "execution_count": 16,
   "metadata": {},
   "outputs": [
    {
     "data": {
      "text/plain": [
       "False"
      ]
     },
     "execution_count": 16,
     "metadata": {},
     "output_type": "execute_result"
    }
   ],
   "source": [
    "def check_model_registered(client, model_name):\n",
    "    try:\n",
    "        client.get_registered_model(name=model_name)\n",
    "    except:\n",
    "        return False\n",
    "    return True\n",
    " \n",
    "check_model_registered(client, model_name=\"hate_speech_classifier\")\n"
   ]
  },
  {
   "cell_type": "code",
   "execution_count": 5,
   "metadata": {},
   "outputs": [
    {
     "data": {
      "text/plain": [
       "<RegisteredModel: aliases={}, creation_timestamp=1721334193187, description='', last_updated_timestamp=1721334193221, latest_versions=[<ModelVersion: aliases=[], creation_timestamp=1721334193221, current_stage='None', description='', last_updated_timestamp=1721334193221, name='hate_speech_classifier', run_id='74b19b03916b4f8ab220c5afb84dc439', run_link='', source='./data/artifacts/2/74b19b03916b4f8ab220c5afb84dc439/artifacts/model', status='READY', status_message='', tags={}, user_id='', version='1'>], name='hate_speech_classifier', tags={}>"
      ]
     },
     "execution_count": 5,
     "metadata": {},
     "output_type": "execute_result"
    }
   ],
   "source": [
    "client.get_registered_model(name=\"hate_speech_classifier\")\n",
    "client.download_artifacts()"
   ]
  },
  {
   "cell_type": "code",
   "execution_count": 8,
   "metadata": {},
   "outputs": [],
   "source": [
    "import requests\n",
    "\n",
    "url = 'http://localhost:8000/predict'\n",
    "data = {'text': 'this is fucking great'}\n",
    "response = requests.post(url, json=data)\n"
   ]
  },
  {
   "cell_type": "code",
   "execution_count": 10,
   "metadata": {},
   "outputs": [
    {
     "data": {
      "text/plain": [
       "{'prediction': \"['No Hate and Offensive']\",\n",
       " 'received_text': 'this is fucking great'}"
      ]
     },
     "execution_count": 10,
     "metadata": {},
     "output_type": "execute_result"
    }
   ],
   "source": [
    "response.json()"
   ]
  },
  {
   "cell_type": "code",
   "execution_count": null,
   "metadata": {},
   "outputs": [],
   "source": [
    "client.download_artifacts"
   ]
  },
  {
   "cell_type": "code",
   "execution_count": null,
   "metadata": {},
   "outputs": [],
   "source": [
    "model."
   ]
  },
  {
   "cell_type": "code",
   "execution_count": 4,
   "metadata": {},
   "outputs": [
    {
     "name": "stdout",
     "output_type": "stream",
     "text": [
      "/Users/abdullahmarkus/VSProjects/hate_speach_detector\n"
     ]
    }
   ],
   "source": [
    "%cd .."
   ]
  },
  {
   "cell_type": "code",
   "execution_count": 5,
   "metadata": {},
   "outputs": [],
   "source": [
    "client = load_mlflow_client()\n",
    "cv = load_count_vectorizer(path=\"./models/count_vectorizer.pkl\")\n",
    "model = load_latest_best_model(model_name=MODEL_NAME, client=client)\n",
    "\n"
   ]
  },
  {
   "cell_type": "code",
   "execution_count": 11,
   "metadata": {},
   "outputs": [],
   "source": [
    "mlflow.end_run()"
   ]
  },
  {
   "cell_type": "code",
   "execution_count": 37,
   "metadata": {},
   "outputs": [
    {
     "name": "stdout",
     "output_type": "stream",
     "text": [
      "['No Hate and Offensive']\n"
     ]
    }
   ],
   "source": [
    "text = \"suck my dick\"\n",
    "input = cv.transform([text]).toarray()\n",
    "prediction = model.predict(input)\n",
    "\n",
    "print(prediction)"
   ]
  },
  {
   "cell_type": "code",
   "execution_count": 11,
   "metadata": {},
   "outputs": [
    {
     "name": "stdout",
     "output_type": "stream",
     "text": [
      "0.7059552088240947\n"
     ]
    }
   ],
   "source": [
    "from sklearn.metrics import classification_report, f1_score\n",
    "import joblib\n",
    "\n",
    "with open(\"../models/hate_speech_model.pkl\", \"rb\") as file:\n",
    "    model = joblib.load(file)\n",
    "\n",
    "    \n",
    "predictions = model.predict(X_test)\n",
    "report = classification_report(y_test, predictions)\n",
    "print(f1_score(y_test, predictions,average='macro'))\n",
    "#model = train_model(X_train, y_train, opt=None)\n",
    "\n",
    "\n"
   ]
  },
  {
   "cell_type": "code",
   "execution_count": 8,
   "metadata": {},
   "outputs": [
    {
     "name": "stdout",
     "output_type": "stream",
     "text": [
      "                       precision    recall  f1-score   support\n",
      "\n",
      "          Hate Speech       0.35      0.40      0.37       277\n",
      "No Hate and Offensive       0.81      0.82      0.81       842\n",
      "   Offensive Language       0.93      0.92      0.93      3837\n",
      "\n",
      "             accuracy                           0.88      4956\n",
      "            macro avg       0.70      0.71      0.71      4956\n",
      "         weighted avg       0.88      0.88      0.88      4956\n",
      "\n"
     ]
    }
   ],
   "source": [
    "print(report)"
   ]
  },
  {
   "cell_type": "code",
   "execution_count": 167,
   "metadata": {},
   "outputs": [
    {
     "name": "stdout",
     "output_type": "stream",
     "text": [
      "                       precision    recall  f1-score   support\n",
      "\n",
      "          Hate Speech       0.48      0.04      0.07       274\n",
      "No Hate and Offensive       0.71      0.94      0.81       822\n",
      "   Offensive Language       0.93      0.93      0.93      3860\n",
      "\n",
      "             accuracy                           0.88      4956\n",
      "            macro avg       0.71      0.63      0.60      4956\n",
      "         weighted avg       0.87      0.88      0.86      4956\n",
      "\n"
     ]
    }
   ],
   "source": [
    "print(report)"
   ]
  },
  {
   "cell_type": "code",
   "execution_count": 158,
   "metadata": {},
   "outputs": [
    {
     "name": "stdout",
     "output_type": "stream",
     "text": [
      "/Users/abdullahmarkus/VSProjects/hate_speach_detector\n"
     ]
    }
   ],
   "source": [
    "%cd .."
   ]
  },
  {
   "cell_type": "code",
   "execution_count": 159,
   "metadata": {},
   "outputs": [
    {
     "data": {
      "text/plain": [
       "<Experiment: artifact_location='file:///Users/abdullahmarkus/VSProjects/hate_speach_detector/mlruns/0', creation_time=1721231065664, experiment_id='0', last_update_time=1721243744715, lifecycle_stage='active', name='hate_speech', tags={}>"
      ]
     },
     "execution_count": 159,
     "metadata": {},
     "output_type": "execute_result"
    }
   ],
   "source": [
    "mlflow.set_experiment(experiment_name=\"hate_speech\")"
   ]
  },
  {
   "cell_type": "code",
   "execution_count": 156,
   "metadata": {},
   "outputs": [
    {
     "name": "stdout",
     "output_type": "stream",
     "text": [
      "                       precision    recall  f1-score   support\n",
      "\n",
      "          Hate Speech       0.34      0.39      0.36       281\n",
      "No Hate and Offensive       0.84      0.81      0.83       861\n",
      "   Offensive Language       0.93      0.93      0.93      3814\n",
      "\n",
      "             accuracy                           0.88      4956\n",
      "            macro avg       0.70      0.71      0.70      4956\n",
      "         weighted avg       0.88      0.88      0.88      4956\n",
      "\n"
     ]
    }
   ],
   "source": [
    "print(report)"
   ]
  },
  {
   "cell_type": "code",
   "execution_count": 144,
   "metadata": {},
   "outputs": [
    {
     "name": "stdout",
     "output_type": "stream",
     "text": [
      "/Users/abdullahmarkus/VSProjects/hate_speach_detector/notebooks\n"
     ]
    }
   ],
   "source": [
    "%cd notebooks/"
   ]
  },
  {
   "cell_type": "code",
   "execution_count": 140,
   "metadata": {},
   "outputs": [],
   "source": [
    "import mlflow\n",
    "logged_model = 'runs:/09538aa25c7b49e79e1851995cd291e8/model'\n",
    "\n",
    "# Load model as a PyFuncModel.\n",
    "loaded_model = mlflow.pyfunc.load_model(logged_model)\n",
    "\n"
   ]
  },
  {
   "cell_type": "code",
   "execution_count": null,
   "metadata": {},
   "outputs": [],
   "source": [
    "testdata = dict()\n",
    "testdata[\"X_test\"] = X_test\n",
    "testdata[\"y_test\"] = y_test\n",
    "\n",
    "with open(\"data/model_data/test_data.pkl\", \"wb\") as file:\n",
    "    joblib.dump(testdata, file)\n",
    "\n",
    "model = train_model(X_train, y_train)\n",
    "print(\"model saved\")"
   ]
  },
  {
   "cell_type": "code",
   "execution_count": null,
   "metadata": {},
   "outputs": [],
   "source": []
  }
 ],
 "metadata": {
  "kernelspec": {
   "display_name": ".venv",
   "language": "python",
   "name": "python3"
  },
  "language_info": {
   "codemirror_mode": {
    "name": "ipython",
    "version": 3
   },
   "file_extension": ".py",
   "mimetype": "text/x-python",
   "name": "python",
   "nbconvert_exporter": "python",
   "pygments_lexer": "ipython3",
   "version": "3.11.4"
  }
 },
 "nbformat": 4,
 "nbformat_minor": 2
}
